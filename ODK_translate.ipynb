{
  "nbformat": 4,
  "nbformat_minor": 0,
  "metadata": {
    "colab": {
      "provenance": [],
      "private_outputs": true,
      "authorship_tag": "ABX9TyMRFSZO9GWXMm9F06vt2ull"
    },
    "kernelspec": {
      "name": "python3",
      "display_name": "Python 3"
    },
    "language_info": {
      "name": "python"
    }
  },
  "cells": [
    {
      "cell_type": "markdown",
      "source": [
        "# Instructions\n",
        "\n",
        "\n",
        "1.   Make sure that your XLSForm has a column with english wording that is called ***label::English***;all of these sheets: `survey`,`choices`,`settings`.\n",
        "2. Rename your XLSForm to `thefile.xlsx` and upload it in the directory.\n",
        "2.   Upload your Google translate API authentication JSON file in the directory and rename it to `authentication.json`. You can get a free API key here:\n",
        "https://cloud.google.com/docs/authentication/api-keys#console\n",
        "4. Enter your desired output language code (eg. `fr` for French) in the next cell. A list of codes can be found here: https://developers.google.com/admin-sdk/directory/v1/languages\n",
        "```\n",
        "Note: You can only translate into one language at once. If you want to translate multiple languages you can either repeat the process or modify the code to add a loop in Cell 5.\n",
        "```\n",
        "5. Execute all cells.\n",
        "\n",
        "\n",
        "\n",
        "\n"
      ],
      "metadata": {
        "id": "wWZjU9-F79Kb"
      }
    },
    {
      "cell_type": "code",
      "source": [
        "# Set your desired target language:\n",
        "target_language = 'de'"
      ],
      "metadata": {
        "id": "3EtnwASA2sPf"
      },
      "execution_count": null,
      "outputs": []
    },
    {
      "cell_type": "code",
      "source": [
        "# Install dependencies\n",
        "!pip install openpyxl google-cloud-translate pandas"
      ],
      "metadata": {
        "id": "DeoBn_CH08d_"
      },
      "execution_count": null,
      "outputs": []
    },
    {
      "cell_type": "code",
      "source": [
        "# Import modules\n",
        "from google.cloud import translate_v2 as translate\n",
        "from concurrent.futures import ThreadPoolExecutor, as_completed\n",
        "import pandas as pd\n",
        "import os"
      ],
      "metadata": {
        "id": "NZuq4D1T2DQf"
      },
      "execution_count": null,
      "outputs": []
    },
    {
      "cell_type": "code",
      "source": [
        "# Upload your XLSForm document and insert the path below:\n",
        "uploaded_file = \"thefile.xlsx\"\n",
        "#Extract the sheets to pandas datafreames\n",
        "dfchoices = pd.read_excel(uploaded_file, 'choices', engine = 'openpyxl')\n",
        "dfsurvey = pd.read_excel(uploaded_file, 'survey', engine = 'openpyxl')\n",
        "dfsettings = pd.read_excel(uploaded_file, 'settings', engine = 'openpyxl')"
      ],
      "metadata": {
        "id": "u-KlYY0J0lo2"
      },
      "execution_count": null,
      "outputs": []
    },
    {
      "cell_type": "code",
      "source": [
        "# The translation\n",
        "import os\n",
        "import pandas as pd\n",
        "from google.cloud import translate_v2 as translate\n",
        "\n",
        "# Set your API key\n",
        "os.environ['GOOGLE_APPLICATION_CREDENTIALS'] = 'thefile.json'\n",
        "\n",
        "translate_client = translate.Client()\n",
        "label = \"label::English\"\n",
        "\n",
        "\n",
        "def translate_text(text, target_language):\n",
        "    if text == \"\":\n",
        "        return \"\"\n",
        "    result = translate_client.translate(text, target_language)\n",
        "    return result['translatedText']\n",
        "\n",
        "def translate_dataframe(df, column, chunk_size=50):\n",
        "    translated_labels = []\n",
        "    for i in range(0, len(df), chunk_size):\n",
        "        text_chunk = df[column][i:i + chunk_size].apply(str).tolist()  # Convert non-string items to strings\n",
        "        text_to_translate = '<sep>'.join(text_chunk)\n",
        "\n",
        "        translated_text = translate_text(text_to_translate, target_language)\n",
        "        translated_labels_chunk = translated_text.split('<sep>')\n",
        "\n",
        "        translated_labels.extend(translated_labels_chunk)\n",
        "\n",
        "    # Assign translated labels to the new column\n",
        "    if len(translated_labels) == len(df):\n",
        "        df[f'label::{target_language}'] = translated_labels\n",
        "    else:\n",
        "        print(f\"Error: Length of translated labels does not match the length of the original text in {column} column.\")\n",
        "\n",
        "    # Convert \"nan\" strings to NaN (missing values)\n",
        "    df[f'label::{target_language}'] = df[f'label::{target_language}'].replace('Nan', pd.NA)\n",
        "\n",
        "    return df\n",
        "\n",
        "# Assuming you have a DataFrame called 'dfsurvey' with the \"label::English\" column\n",
        "dfsurvey = translate_dataframe(dfsurvey, label)\n",
        "# Assuming you have a DataFrame called 'dfchoices' with the \"label::English\" column\n",
        "dfchoices = translate_dataframe(dfchoices, label)\n"
      ],
      "metadata": {
        "id": "DqYLhry73yzG"
      },
      "execution_count": null,
      "outputs": []
    },
    {
      "cell_type": "code",
      "source": [
        "#Saving new XLSForm\n",
        "import pandas as pd\n",
        "\n",
        "# Create a Pandas Excel writer using openpyxl as the engine\n",
        "name = 'Translated Survey'\n",
        "file_name = f'{name}.xlsx'\n",
        "\n",
        "with pd.ExcelWriter(file_name, engine='openpyxl') as writer:\n",
        "    # Write each dataframe to a different worksheet\n",
        "    dfsurvey.to_excel(writer, sheet_name='survey', index=False)\n",
        "    dfchoices.to_excel(writer, sheet_name='choices', index=False)\n",
        "    dfsettings.to_excel(writer, sheet_name='settings', index=False)\n",
        "\n"
      ],
      "metadata": {
        "id": "ti2vMYZHJJ7K"
      },
      "execution_count": null,
      "outputs": []
    }
  ]
}